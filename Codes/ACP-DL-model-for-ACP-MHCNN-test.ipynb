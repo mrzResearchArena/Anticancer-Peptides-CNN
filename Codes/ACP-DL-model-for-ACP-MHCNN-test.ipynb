{
  "nbformat": 4,
  "nbformat_minor": 0,
  "metadata": {
    "colab": {
      "name": "train-test-ACP-DL.ipynb",
      "provenance": [],
      "authorship_tag": "ABX9TyMUd442k4E5AYajECUwa7Kv",
      "include_colab_link": true
    },
    "kernelspec": {
      "name": "python3",
      "display_name": "Python 3"
    },
    "language_info": {
      "name": "python"
    },
    "accelerator": "GPU"
  },
  "cells": [
    {
      "cell_type": "markdown",
      "metadata": {
        "id": "view-in-github",
        "colab_type": "text"
      },
      "source": [
        "<a href=\"https://colab.research.google.com/github/mrzResearchArena/Anticancer-Peptides-CNN/blob/master/Codes/ACP-DL-model-for-ACP-MHCNN-test.ipynb\" target=\"_parent\"><img src=\"https://colab.research.google.com/assets/colab-badge.svg\" alt=\"Open In Colab\"/></a>"
      ]
    },
    {
      "cell_type": "code",
      "metadata": {
        "colab": {
          "base_uri": "https://localhost:8080/"
        },
        "id": "qBvwbmDGz7kA",
        "outputId": "cabb896c-ee49-4af4-ffaa-057c19d2d747"
      },
      "source": [
        "from google.colab import drive\n",
        "drive.mount('/content/drive')"
      ],
      "execution_count": 1,
      "outputs": [
        {
          "output_type": "stream",
          "text": [
            "Mounted at /content/drive\n"
          ],
          "name": "stdout"
        }
      ]
    },
    {
      "cell_type": "code",
      "metadata": {
        "colab": {
          "base_uri": "https://localhost:8080/"
        },
        "id": "11M2qI350GTR",
        "outputId": "e03e2605-35bf-4520-d1d7-614c21af3487"
      },
      "source": [
        "ls"
      ],
      "execution_count": 2,
      "outputs": [
        {
          "output_type": "stream",
          "text": [
            "\u001b[0m\u001b[01;34mdrive\u001b[0m/  \u001b[01;34msample_data\u001b[0m/\n"
          ],
          "name": "stdout"
        }
      ]
    },
    {
      "cell_type": "code",
      "metadata": {
        "colab": {
          "base_uri": "https://localhost:8080/"
        },
        "id": "NDUAdFex0IEv",
        "outputId": "f0a460ff-6ab7-4e4e-aa14-eb417cfefb56"
      },
      "source": [
        "cd 'drive/My Drive/ACP-PyFeat'"
      ],
      "execution_count": 3,
      "outputs": [
        {
          "output_type": "stream",
          "text": [
            "/content/drive/My Drive/ACP-PyFeat\n"
          ],
          "name": "stdout"
        }
      ]
    },
    {
      "cell_type": "code",
      "metadata": {
        "colab": {
          "base_uri": "https://localhost:8080/"
        },
        "id": "Juleh2JG0KWi",
        "outputId": "ce5ba9e4-8d37-4786-abfb-833cb14056e8"
      },
      "source": [
        "ls"
      ],
      "execution_count": 4,
      "outputs": [
        {
          "output_type": "stream",
          "text": [
            "acp164.txt       blosum-240.npy      bpf-val-172.npy\n",
            "acp240.txt       blosum-500.npy      bpf-val-194.npy\n",
            "acp500.txt       blosum-740.npy      model-240.png\n",
            "acp740.txt       blosum-in-689.npy   model-240-single-head.png\n",
            "bit-in-689.npy   blosum-in-776.npy   model-500-164.png\n",
            "bit-in-776.npy   blosum-val-172.npy  model-740.png\n",
            "bits-164.npy     blosum-val-194.npy  model-740-single-head.png\n",
            "bits-240.npy     bpf-164.npy         model-single-Head-500-164.png\n",
            "bits-500.npy     bpf-240.npy         ROC-240.png\n",
            "bits-740.npy     bpf-500.npy         ROC-500-164.png\n",
            "bit-val-172.npy  bpf-740.npy         ROC-740.png\n",
            "bit-val-194.npy  bpf-in-689.npy      ROC.png\n",
            "blosum-164.npy   bpf-in-776.npy\n"
          ],
          "name": "stdout"
        }
      ]
    },
    {
      "cell_type": "code",
      "metadata": {
        "id": "7r5aFGMU6le9"
      },
      "source": [
        "from keras.models import Sequential\n",
        "from keras.layers import LSTM, Dense, Dropout, Activation, GRU, SimpleRNN\n",
        "from keras.callbacks import ModelCheckpoint,TensorBoard\n",
        "from keras.optimizers import RMSprop\n",
        "import matplotlib.pyplot as plt\n",
        "from tensorflow.keras.utils import plot_model\n",
        "#from lightgbm import LGBMClassifier\n",
        "from sklearn.metrics import roc_curve, auc, confusion_matrix, matthews_corrcoef, precision_score\n",
        "from sklearn.model_selection import train_test_split\n",
        "import pickle\n",
        "import scipy.io as sio\n",
        "import numpy as np\n",
        "from numpy import linalg as la\n",
        "import argparse"
      ],
      "execution_count": 5,
      "outputs": []
    },
    {
      "cell_type": "code",
      "metadata": {
        "id": "EmAw954L7hgj"
      },
      "source": [
        "def TransDict_from_list(groups):\n",
        "    transDict = dict()\n",
        "    tar_list = ['0', '1', '2', '3', '4', '5', '6']\n",
        "    result = {}\n",
        "    index = 0\n",
        "    for group in groups:\n",
        "        g_members = sorted(group)  # Alphabetically sorted list\n",
        "        for c in g_members:\n",
        "            # print('c' + str(c))\n",
        "            # print('g_members[0]' + str(g_members[0]))\n",
        "            result[c] = str(tar_list[index])  # K:V map, use group's first letter as represent.\n",
        "        index = index + 1\n",
        "    return result\n",
        "\n",
        "def get_3_protein_trids():\n",
        "    nucle_com = []\n",
        "    chars = ['0', '1', '2', '3', '4', '5', '6']\n",
        "    base = len(chars)\n",
        "    end = len(chars) ** 3\n",
        "    for i in range(0, end):\n",
        "        n = i\n",
        "        ch0 = chars[n % base]\n",
        "        n = n / base\n",
        "        ch1 = chars[int(n % base)]\n",
        "        n = n / base\n",
        "        ch2 = chars[int(n % base)]\n",
        "        nucle_com.append(ch0 + ch1 + ch2)\n",
        "    return nucle_com\n",
        "\n",
        "def translate_sequence(seq, TranslationDict):\n",
        "    '''\n",
        "    Given (seq) - a string/sequence to translate,\n",
        "    Translates into a reduced alphabet, using a translation dict provided\n",
        "    by the TransDict_from_list() method.\n",
        "    Returns the string/sequence in the new, reduced alphabet.\n",
        "    Remember - in Python string are immutable..\n",
        "\n",
        "    '''\n",
        "    import string\n",
        "    from_list = []\n",
        "    to_list = []\n",
        "    for k, v in TranslationDict.items():\n",
        "        from_list.append(k)\n",
        "        to_list.append(v)\n",
        "    # TRANS_seq = seq.translate(str.maketrans(zip(from_list,to_list)))\n",
        "    TRANS_seq = seq.translate(str.maketrans(str(from_list), str(to_list)))\n",
        "    # TRANS_seq = maketrans( TranslationDict, seq)\n",
        "    return TRANS_seq\n",
        "\n",
        "def get_4_nucleotide_composition(tris, seq, pythoncount=True):\n",
        "    seq_len = len(seq)\n",
        "    tri_feature = [0] * len(tris)\n",
        "    k = len(tris[0])\n",
        "    note_feature = [[0 for cols in range(len(seq) - k + 1)] for rows in range(len(tris))]\n",
        "    if pythoncount:\n",
        "        for val in tris:\n",
        "            num = seq.count(val)\n",
        "            tri_feature.append(float(num) / seq_len)\n",
        "    else:\n",
        "        # tmp_fea = [0] * len(tris)\n",
        "        for x in range(len(seq) + 1 - k):\n",
        "            kmer = seq[x:x + k]\n",
        "            if kmer in tris:\n",
        "                ind = tris.index(kmer)\n",
        "                # tmp_fea[ind] = tmp_fea[ind] + 1\n",
        "                note_feature[ind][x] = note_feature[ind][x] + 1\n",
        "        # tri_feature = [float(val)/seq_len for val in tmp_fea]    #tri_feature type:list len:256\n",
        "        u, s, v = la.svd(note_feature)\n",
        "        for i in range(len(s)):\n",
        "            tri_feature = tri_feature + u[i] * s[i] / seq_len\n",
        "        # print tri_feature\n",
        "        # pdb.set_trace()\n",
        "\n",
        "    return tri_feature\n",
        "# def get_4_nucleotide_composition(tris, seq, pythoncount=True):\n",
        "#     seq_len = len(seq)\n",
        "#     tri_feature = []\n",
        "#\n",
        "#     if pythoncount:\n",
        "#         for val in tris:\n",
        "#             num = seq.count(val)\n",
        "#             tri_feature.append(float(num) / seq_len)\n",
        "#     else:\n",
        "#         k = len(tris[0])\n",
        "#         tmp_fea = [0] * len(tris)\n",
        "#         for x in range(len(seq) + 1 - k):\n",
        "#             kmer = seq[x:x + k]\n",
        "#             if kmer in tris:\n",
        "#                 ind = tris.index(kmer)\n",
        "#                 tmp_fea[ind] = tmp_fea[ind] + 1\n",
        "#         tri_feature = [float(val) / seq_len for val in tmp_fea]\n",
        "#         # pdb.set_trace()\n",
        "#     return tri_feature\n",
        "\n",
        "def BPF(seq_temp):\n",
        "    seq = seq_temp\n",
        "    chars = ['A', 'C', 'D', 'E', 'F', 'G', 'H', 'I', 'K', 'L', 'M', 'N', 'P', 'Q', 'R', 'S', 'T', 'V', 'W', 'Y']\n",
        "    fea = []\n",
        "    tem_vec =[]\n",
        "    k = 7\n",
        "    for i in range(k):\n",
        "        if seq[i] =='A':\n",
        "            tem_vec = [1,0,0,0,0,0,0,0,0,0,0,0,0,0,0,0,0,0,0,0]\n",
        "        elif seq[i]=='C':\n",
        "            tem_vec = [0,1,0,0,0,0,0,0,0,0,0,0,0,0,0,0,0,0,0,0]\n",
        "        elif seq[i]=='D':\n",
        "            tem_vec = [0,0,1,0,0,0,0,0,0,0,0,0,0,0,0,0,0,0,0,0]\n",
        "        elif seq[i]=='E':\n",
        "            tem_vec = [0,0,0,1,0,0,0,0,0,0,0,0,0,0,0,0,0,0,0,0]\n",
        "        elif seq[i]=='F':\n",
        "            tem_vec = [0,0,0,0,1,0,0,0,0,0,0,0,0,0,0,0,0,0,0,0]\n",
        "        elif seq[i]=='G':\n",
        "            tem_vec = [0,0,0,0,0,1,0,0,0,0,0,0,0,0,0,0,0,0,0,0]\n",
        "        elif seq[i]=='H':\n",
        "            tem_vec = [0,0,0,0,0,0,1,0,0,0,0,0,0,0,0,0,0,0,0,0]\n",
        "        elif seq[i]=='I':\n",
        "            tem_vec = [0,0,0,0,0,0,0,1,0,0,0,0,0,0,0,0,0,0,0,0]\n",
        "        elif seq[i]=='K':\n",
        "            tem_vec = [0,0,0,0,0,0,0,0,1,0,0,0,0,0,0,0,0,0,0,0]\n",
        "        elif seq[i]=='L':\n",
        "            tem_vec = [0,0,0,0,0,0,0,0,0,1,0,0,0,0,0,0,0,0,0,0]\n",
        "        elif seq[i]=='M':\n",
        "            tem_vec = [0,0,0,0,0,0,0,0,0,0,1,0,0,0,0,0,0,0,0,0]\n",
        "        elif seq[i]=='N':\n",
        "            tem_vec = [0,0,0,0,0,0,0,0,0,0,0,1,0,0,0,0,0,0,0,0]\n",
        "        elif seq[i]=='P':\n",
        "            tem_vec = [0,0,0,0,0,0,0,0,0,0,0,0,1,0,0,0,0,0,0,0]\n",
        "        elif seq[i]=='Q':\n",
        "            tem_vec = [0,0,0,0,0,0,0,0,0,0,0,0,0,1,0,0,0,0,0,0]\n",
        "        elif seq[i]=='R':\n",
        "            tem_vec = [0,0,0,0,0,0,0,0,0,0,0,0,0,0,1,0,0,0,0,0]\n",
        "        elif seq[i]=='S':\n",
        "            tem_vec = [0,0,0,0,0,0,0,0,0,0,0,0,0,0,0,1,0,0,0,0]\n",
        "        elif seq[i]=='T':\n",
        "            tem_vec = [0,0,0,0,0,0,0,0,0,0,0,0,0,0,0,0,1,0,0,0]\n",
        "        elif seq[i]=='V':\n",
        "            tem_vec = [0,0,0,0,0,0,0,0,0,0,0,0,0,0,0,0,0,1,0,0]\n",
        "        elif seq[i]=='W':\n",
        "            tem_vec = [0,0,0,0,0,0,0,0,0,0,0,0,0,0,0,0,0,0,1,0]\n",
        "        elif seq[i]=='Y':\n",
        "            tem_vec = [0,0,0,0,0,0,0,0,0,0,0,0,0,0,0,0,0,0,0,1]\n",
        "        fea = fea + tem_vec\n",
        "    return fea\n",
        "\n",
        "def calculate_performace(test_num, pred_y, labels):\n",
        "    tp = 0\n",
        "    fp = 0\n",
        "    tn = 0\n",
        "    fn = 0\n",
        "    for index in range(test_num):\n",
        "        if labels[index] == 1:\n",
        "            if labels[index] == pred_y[index]:\n",
        "                tp = tp + 1\n",
        "            else:\n",
        "                fn = fn + 1\n",
        "        else:\n",
        "            if labels[index] == pred_y[index]:\n",
        "                tn = tn + 1\n",
        "            else:\n",
        "                fp = fp + 1\n",
        "\n",
        "    acc = float(tp + tn) / test_num\n",
        "    precision = float(tp) / (tp + fp)\n",
        "    sensitivity = float(tp) / (tp + fn)\n",
        "    specificity = float(tn) / (tn + fp)\n",
        "    MCC = float(tp * tn - fp * fn) / (np.sqrt((tp + fp) * (tp + fn) * (tn + fp) * (tn + fn)))\n",
        "    return acc, precision, sensitivity, specificity, MCC\n",
        "\n",
        "def transfer_label_from_prob(proba):\n",
        "    label = [1 if val >= 0.5 else 0 for val in proba]\n",
        "    return label\n",
        "def plot_roc_curve(labels, probality, legend_text, auc_tag=True):\n",
        "    # fpr2, tpr2, thresholds = roc_curve(labels, pred_y)\n",
        "    fpr, tpr, thresholds = roc_curve(labels, probality)  # probas_[:, 1])\n",
        "    roc_auc = auc(fpr, tpr)\n",
        "    if auc_tag:\n",
        "        rects1 = plt.plot(fpr, tpr, label=legend_text + ' (AUC=%6.3f) ' % roc_auc)\n",
        "    else:\n",
        "        rects1 = plt.plot(fpr, tpr, label=legend_text)\n"
      ],
      "execution_count": 6,
      "outputs": []
    },
    {
      "cell_type": "code",
      "metadata": {
        "id": "dv7rkFzY8c55"
      },
      "source": [
        "def prepareFeature(featureName):\n",
        "    label = []\n",
        "    interaction_pair = {}\n",
        "    RNA_seq_dict = {}\n",
        "    protein_seq_dict = {}\n",
        "    protein_index = 0\n",
        "    with open(featureName, 'r') as fp:\n",
        "        for line in fp:\n",
        "            if line[0] == '>':\n",
        "                values = line[1:].strip().split('|')\n",
        "                label_temp = values[1]\n",
        "                proteinName = values[0]\n",
        "                if label_temp == '1':\n",
        "                    label.append(1)\n",
        "                else:\n",
        "                    label.append(0)\n",
        "            else:\n",
        "                seq = line[:-1]\n",
        "                protein_seq_dict[protein_index] = seq\n",
        "                protein_index = protein_index + 1\n",
        "    # name_list = read_name_from_lncRNA_fasta('ncRNA-protein/lncRNA_RNA.fa')\n",
        "    groups = ['AGV', 'ILFP', 'YMTS', 'HNQW', 'RK', 'DE', 'C']\n",
        "    group_dict = TransDict_from_list(groups)\n",
        "    protein_tris = get_3_protein_trids()\n",
        "    # tris3 = get_3_trids()\n",
        "    bpf=[]\n",
        "    kmer=[]\n",
        "    # get protein feature\n",
        "    # pdb.set_trace()\n",
        "    for i in protein_seq_dict:  # and protein_fea_dict.has_key(protein) and RNA_fea_dict.has_key(RNA):\n",
        "        protein_seq = translate_sequence(protein_seq_dict[i], group_dict)\n",
        "        bpf_feature = BPF(protein_seq_dict[i])\n",
        "        # print('bpf:',shape(bpf_feature))\n",
        "        # pdb.set_trace()\n",
        "        # RNA_tri_fea = get_4_nucleotide_composition(tris, RNA_seq, pythoncount=False)\n",
        "        protein_tri_fea = get_4_nucleotide_composition(protein_tris, protein_seq, pythoncount =False)\n",
        "\n",
        "        bpf.append(bpf_feature)\n",
        "        kmer.append(protein_tri_fea)\n",
        "        # protein_index = protein_index + 1\n",
        "        # chem_fea.append(chem_tmp_fea)\n",
        "    return np.array(bpf), np.array(kmer), label"
      ],
      "execution_count": 7,
      "outputs": []
    },
    {
      "cell_type": "code",
      "metadata": {
        "id": "yV_Fyvoi_ET_"
      },
      "source": [
        "# bpf, kmer, label = prepareFeature('acp500.txt')"
      ],
      "execution_count": 8,
      "outputs": []
    },
    {
      "cell_type": "code",
      "metadata": {
        "id": "n-lKFyOj_F2o"
      },
      "source": [
        "# bpf.shape"
      ],
      "execution_count": 9,
      "outputs": []
    },
    {
      "cell_type": "code",
      "metadata": {
        "colab": {
          "base_uri": "https://localhost:8080/",
          "height": 165
        },
        "id": "kiSK2riIDIQ0",
        "outputId": "4e85d45f-046d-4397-a8bd-d38c2aef1606"
      },
      "source": [
        "# np.array(label)"
      ],
      "execution_count": 10,
      "outputs": [
        {
          "output_type": "error",
          "ename": "NameError",
          "evalue": "ignored",
          "traceback": [
            "\u001b[0;31m---------------------------------------------------------------------------\u001b[0m",
            "\u001b[0;31mNameError\u001b[0m                                 Traceback (most recent call last)",
            "\u001b[0;32m<ipython-input-10-07116723df96>\u001b[0m in \u001b[0;36m<module>\u001b[0;34m()\u001b[0m\n\u001b[0;32m----> 1\u001b[0;31m \u001b[0mnp\u001b[0m\u001b[0;34m.\u001b[0m\u001b[0marray\u001b[0m\u001b[0;34m(\u001b[0m\u001b[0mlabel\u001b[0m\u001b[0;34m)\u001b[0m\u001b[0;34m\u001b[0m\u001b[0;34m\u001b[0m\u001b[0m\n\u001b[0m",
            "\u001b[0;31mNameError\u001b[0m: name 'label' is not defined"
          ]
        }
      ]
    },
    {
      "cell_type": "code",
      "metadata": {
        "id": "DRAJH3fS_Ng0"
      },
      "source": [
        "# kmer.shape\n",
        "def transferLabel(proba):\n",
        "    label = [1 if val >= 0.5 else 0 for val in proba]\n",
        "    return label\n",
        "#end"
      ],
      "execution_count": 14,
      "outputs": []
    },
    {
      "cell_type": "code",
      "metadata": {
        "colab": {
          "base_uri": "https://localhost:8080/"
        },
        "id": "hvP_9oOLzq1t",
        "outputId": "ccdf4cc9-b6ef-409c-90ee-cf91b5667844"
      },
      "source": [
        "# define parameters\n",
        "data_dim = 483\n",
        "timesteps = 1\n",
        "batch_size = 32   # if dataset = acp240, set batch_size = 32; if dataset = acp740, set batch_size = 64\n",
        "epochs = 30\n",
        "# get data\n",
        "\n",
        "bpf1, kmer1, label1 = prepareFeature('acp500.txt')\n",
        "bpf2, kmer2, label2 = prepareFeature('acp240.txt')\n",
        "\n",
        "Xtrain = np.concatenate((bpf1, kmer1), axis=1)\n",
        "Xtrain = np.reshape(Xtrain, (len(Xtrain), timesteps, data_dim))\n",
        "\n",
        "Xtest = np.concatenate((bpf2, kmer2), axis=1)\n",
        "Xtest = np.reshape(Xtest, (len(Xtest), timesteps, data_dim))\n",
        "\n",
        "\n",
        "print(Xtrain.shape)\n",
        "print(Xtest.shape)\n",
        "\n",
        "Ytrain  = [0 for _ in range(250)]\n",
        "Ytrain += [1 for _ in range(250)]\n",
        "Ytrain  = np.array(Ytrain)\n",
        "\n",
        "Ytest  = [1 for _ in range(129)]\n",
        "Ytest += [0 for _ in range(111)]\n",
        "Ytest  = np.array(Ytest)\n",
        "\n",
        "model = Sequential()\n",
        "model.add(LSTM(128, return_sequences=False,input_shape=(timesteps, data_dim), name='lstm1'))  # returns a sequence of vectors of dimension 32\n",
        "model.add(Dropout(0.25, name='dropout'))\n",
        "model.add(Dense(1, name='full_connect'))\n",
        "model.add(Activation('sigmoid'))\n",
        "model.summary()\n",
        "\n",
        "print('Compiling the Model...')\n",
        "model.compile(loss='binary_crossentropy',\n",
        "              optimizer='adam',\n",
        "              metrics=['accuracy'])\n",
        "\n",
        "model.fit(x=Xtrain, y=Ytrain,\n",
        "          validation_data=(Xtest, Ytest),\n",
        "          batch_size=batch_size,\n",
        "          epochs=epochs)\n",
        "\n",
        "# Evaluate the Model:\n",
        "accuracy = model.evaluate(x=Xtest, y=Ytest)\n",
        "\n",
        "# Performance Metices:\n",
        "Yactual = Ytest\n",
        "Yp = model.predict(Xtest)\n",
        "Yp = model.predict_proba(Xtest)\n",
        "\n",
        "Yp = transferLabel(Yp)\n",
        "\n",
        "print(Yp)\n",
        "# v = Yp\n",
        "# Yp = Yp.argmax(axis=1)\n",
        "\n",
        "CM = confusion_matrix(y_pred=Yp, y_true=Yactual)\n",
        "TN, FP, FN, TP = CM.ravel()\n",
        "\n",
        "print(CM)\n",
        "\n",
        "fpr, tpr, _ = roc_curve(Yactual, Yp)\n",
        "AUC = auc(fpr, tpr)\n",
        "\n",
        "print('Accuracy: {:.2f}'.format(accuracy[1]))\n",
        "print('MCC: {:.2f}'.format(matthews_corrcoef(y_true=Yactual, y_pred=Yp)))\n",
        "print('Sensitivity: {0:.4f}'.format(TP / (TP + FN)))\n",
        "print('Specificity: {0:.4f}'.format(TN / (TN + FP)))\n",
        "print('Precision: {0:.4f}'.format(precision_score(y_true=Yactual, y_pred=Yp)))\n",
        "print('AUC: {0:.4f}'.format(AUC))\n",
        "\n",
        "print('Accuracy: {:.2f}'.format(accuracy[1]))"
      ],
      "execution_count": 25,
      "outputs": [
        {
          "output_type": "stream",
          "text": [
            "(500, 1, 483)\n",
            "(240, 1, 483)\n",
            "Model: \"sequential_13\"\n",
            "_________________________________________________________________\n",
            "Layer (type)                 Output Shape              Param #   \n",
            "=================================================================\n",
            "lstm1 (LSTM)                 (None, 128)               313344    \n",
            "_________________________________________________________________\n",
            "dropout (Dropout)            (None, 128)               0         \n",
            "_________________________________________________________________\n",
            "full_connect (Dense)         (None, 1)                 129       \n",
            "_________________________________________________________________\n",
            "activation_13 (Activation)   (None, 1)                 0         \n",
            "=================================================================\n",
            "Total params: 313,473\n",
            "Trainable params: 313,473\n",
            "Non-trainable params: 0\n",
            "_________________________________________________________________\n",
            "Compiling the Model...\n",
            "Epoch 1/30\n",
            "16/16 [==============================] - 2s 40ms/step - loss: 0.6822 - accuracy: 0.6252 - val_loss: 0.6832 - val_accuracy: 0.6125\n",
            "Epoch 2/30\n",
            "16/16 [==============================] - 0s 6ms/step - loss: 0.6401 - accuracy: 0.8198 - val_loss: 0.6779 - val_accuracy: 0.6125\n",
            "Epoch 3/30\n",
            "16/16 [==============================] - 0s 5ms/step - loss: 0.6042 - accuracy: 0.8121 - val_loss: 0.6766 - val_accuracy: 0.6208\n",
            "Epoch 4/30\n",
            "16/16 [==============================] - 0s 5ms/step - loss: 0.5428 - accuracy: 0.8451 - val_loss: 0.6847 - val_accuracy: 0.6208\n",
            "Epoch 5/30\n",
            "16/16 [==============================] - 0s 6ms/step - loss: 0.4938 - accuracy: 0.8334 - val_loss: 0.7028 - val_accuracy: 0.6333\n",
            "Epoch 6/30\n",
            "16/16 [==============================] - 0s 6ms/step - loss: 0.4454 - accuracy: 0.8663 - val_loss: 0.7234 - val_accuracy: 0.6375\n",
            "Epoch 7/30\n",
            "16/16 [==============================] - 0s 6ms/step - loss: 0.3795 - accuracy: 0.8705 - val_loss: 0.7527 - val_accuracy: 0.6417\n",
            "Epoch 8/30\n",
            "16/16 [==============================] - 0s 9ms/step - loss: 0.3687 - accuracy: 0.8704 - val_loss: 0.7763 - val_accuracy: 0.6667\n",
            "Epoch 9/30\n",
            "16/16 [==============================] - 0s 6ms/step - loss: 0.3359 - accuracy: 0.8709 - val_loss: 0.7916 - val_accuracy: 0.6792\n",
            "Epoch 10/30\n",
            "16/16 [==============================] - 0s 7ms/step - loss: 0.2994 - accuracy: 0.9013 - val_loss: 0.8062 - val_accuracy: 0.6875\n",
            "Epoch 11/30\n",
            "16/16 [==============================] - 0s 6ms/step - loss: 0.3013 - accuracy: 0.8906 - val_loss: 0.8156 - val_accuracy: 0.6917\n",
            "Epoch 12/30\n",
            "16/16 [==============================] - 0s 6ms/step - loss: 0.2543 - accuracy: 0.9174 - val_loss: 0.8365 - val_accuracy: 0.6958\n",
            "Epoch 13/30\n",
            "16/16 [==============================] - 0s 6ms/step - loss: 0.2339 - accuracy: 0.9213 - val_loss: 0.8446 - val_accuracy: 0.7167\n",
            "Epoch 14/30\n",
            "16/16 [==============================] - 0s 6ms/step - loss: 0.2396 - accuracy: 0.9123 - val_loss: 0.8484 - val_accuracy: 0.7250\n",
            "Epoch 15/30\n",
            "16/16 [==============================] - 0s 6ms/step - loss: 0.2231 - accuracy: 0.9175 - val_loss: 0.8644 - val_accuracy: 0.7208\n",
            "Epoch 16/30\n",
            "16/16 [==============================] - 0s 6ms/step - loss: 0.2439 - accuracy: 0.9016 - val_loss: 0.8924 - val_accuracy: 0.7208\n",
            "Epoch 17/30\n",
            "16/16 [==============================] - 0s 5ms/step - loss: 0.2190 - accuracy: 0.9125 - val_loss: 0.9043 - val_accuracy: 0.7125\n",
            "Epoch 18/30\n",
            "16/16 [==============================] - 0s 6ms/step - loss: 0.1605 - accuracy: 0.9509 - val_loss: 0.9420 - val_accuracy: 0.7125\n",
            "Epoch 19/30\n",
            "16/16 [==============================] - 0s 6ms/step - loss: 0.1715 - accuracy: 0.9372 - val_loss: 0.9464 - val_accuracy: 0.7125\n",
            "Epoch 20/30\n",
            "16/16 [==============================] - 0s 6ms/step - loss: 0.1719 - accuracy: 0.9313 - val_loss: 0.9704 - val_accuracy: 0.7083\n",
            "Epoch 21/30\n",
            "16/16 [==============================] - 0s 6ms/step - loss: 0.1571 - accuracy: 0.9532 - val_loss: 0.9906 - val_accuracy: 0.7083\n",
            "Epoch 22/30\n",
            "16/16 [==============================] - 0s 6ms/step - loss: 0.1481 - accuracy: 0.9474 - val_loss: 1.0071 - val_accuracy: 0.7125\n",
            "Epoch 23/30\n",
            "16/16 [==============================] - 0s 6ms/step - loss: 0.1384 - accuracy: 0.9641 - val_loss: 1.0308 - val_accuracy: 0.7125\n",
            "Epoch 24/30\n",
            "16/16 [==============================] - 0s 6ms/step - loss: 0.1388 - accuracy: 0.9597 - val_loss: 1.0596 - val_accuracy: 0.7125\n",
            "Epoch 25/30\n",
            "16/16 [==============================] - 0s 6ms/step - loss: 0.1248 - accuracy: 0.9630 - val_loss: 1.0731 - val_accuracy: 0.7125\n",
            "Epoch 26/30\n",
            "16/16 [==============================] - 0s 6ms/step - loss: 0.1547 - accuracy: 0.9507 - val_loss: 1.1124 - val_accuracy: 0.7042\n",
            "Epoch 27/30\n",
            "16/16 [==============================] - 0s 6ms/step - loss: 0.1140 - accuracy: 0.9632 - val_loss: 1.1280 - val_accuracy: 0.7000\n",
            "Epoch 28/30\n",
            "16/16 [==============================] - 0s 6ms/step - loss: 0.1078 - accuracy: 0.9723 - val_loss: 1.1532 - val_accuracy: 0.7042\n",
            "Epoch 29/30\n",
            "16/16 [==============================] - 0s 6ms/step - loss: 0.1018 - accuracy: 0.9722 - val_loss: 1.2003 - val_accuracy: 0.7208\n",
            "Epoch 30/30\n",
            "16/16 [==============================] - 0s 6ms/step - loss: 0.0948 - accuracy: 0.9760 - val_loss: 1.2078 - val_accuracy: 0.7083\n",
            "8/8 [==============================] - 0s 3ms/step - loss: 1.2078 - accuracy: 0.7083\n",
            "[1, 0, 0, 1, 0, 0, 0, 0, 0, 0, 0, 0, 0, 1, 1, 1, 1, 0, 0, 0, 0, 0, 0, 0, 0, 0, 0, 0, 0, 0, 0, 0, 0, 0, 0, 0, 0, 0, 0, 0, 0, 0, 0, 0, 0, 0, 0, 1, 1, 0, 1, 1, 1, 1, 1, 1, 1, 1, 1, 1, 1, 1, 1, 1, 0, 0, 1, 1, 1, 0, 1, 1, 1, 1, 1, 1, 1, 0, 1, 1, 1, 1, 1, 1, 1, 1, 1, 1, 1, 1, 1, 1, 1, 1, 1, 1, 1, 1, 1, 1, 1, 1, 1, 1, 1, 1, 0, 1, 1, 0, 1, 0, 0, 1, 1, 1, 1, 1, 1, 1, 1, 1, 1, 1, 1, 1, 1, 1, 1, 0, 0, 0, 0, 0, 0, 0, 0, 0, 0, 0, 1, 0, 0, 0, 0, 0, 0, 0, 1, 1, 0, 1, 1, 1, 0, 1, 0, 1, 0, 1, 0, 1, 0, 0, 0, 0, 1, 0, 0, 1, 0, 0, 0, 0, 0, 0, 0, 0, 0, 0, 0, 0, 0, 0, 0, 0, 0, 0, 0, 0, 0, 0, 0, 0, 0, 0, 0, 0, 0, 0, 0, 0, 0, 0, 0, 0, 0, 0, 0, 0, 0, 0, 0, 0, 0, 1, 0, 0, 0, 1, 0, 0, 0, 0, 0, 0, 0, 0, 1, 1, 0, 1, 0, 1, 1, 0, 0, 0, 0, 1]\n",
            "[[91 20]\n",
            " [50 79]]\n",
            "Accuracy: 0.71\n",
            "MCC: 0.44\n",
            "Sensitivity: 0.6124\n",
            "Specificity: 0.8198\n",
            "Precision: 0.7980\n",
            "AUC: 0.7161\n",
            "Accuracy: 0.71\n"
          ],
          "name": "stdout"
        },
        {
          "output_type": "stream",
          "text": [
            "/usr/local/lib/python3.7/dist-packages/keras/engine/sequential.py:425: UserWarning: `model.predict_proba()` is deprecated and will be removed after 2021-01-01. Please use `model.predict()` instead.\n",
            "  warnings.warn('`model.predict_proba()` is deprecated and '\n"
          ],
          "name": "stderr"
        }
      ]
    },
    {
      "cell_type": "code",
      "metadata": {
        "id": "KGOGBPhK0ulF"
      },
      "source": [
        ""
      ],
      "execution_count": null,
      "outputs": []
    }
  ]
}